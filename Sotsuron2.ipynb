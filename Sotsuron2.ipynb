{
  "nbformat": 4,
  "nbformat_minor": 0,
  "metadata": {
    "colab": {
      "provenance": [],
      "authorship_tag": "ABX9TyOqSqEdO3Bo4siNJQrkqj/K",
      "include_colab_link": true
    },
    "kernelspec": {
      "name": "python3",
      "display_name": "Python 3"
    },
    "language_info": {
      "name": "python"
    }
  },
  "cells": [
    {
      "cell_type": "markdown",
      "metadata": {
        "id": "view-in-github",
        "colab_type": "text"
      },
      "source": [
        "<a href=\"https://colab.research.google.com/github/YugaYoshimura/a/blob/main/Sotsuron2.ipynb\" target=\"_parent\"><img src=\"https://colab.research.google.com/assets/colab-badge.svg\" alt=\"Open In Colab\"/></a>"
      ]
    },
    {
      "cell_type": "code",
      "execution_count": 1,
      "metadata": {
        "colab": {
          "base_uri": "https://localhost:8080/"
        },
        "id": "qIjzLUw8Jfi7",
        "outputId": "94c42948-c576-4a07-db4a-b525e939fbf6"
      },
      "outputs": [
        {
          "output_type": "stream",
          "name": "stdout",
          "text": [
            "前処理を開始\n",
            "Get:1 https://cloud.r-project.org/bin/linux/ubuntu focal-cran40/ InRelease [3,622 B]\n",
            "Ign:2 https://developer.download.nvidia.com/compute/machine-learning/repos/ubuntu2004/x86_64  InRelease\n",
            "Hit:3 https://developer.download.nvidia.com/compute/cuda/repos/ubuntu2004/x86_64  InRelease\n",
            "Hit:4 https://developer.download.nvidia.com/compute/machine-learning/repos/ubuntu2004/x86_64  Release\n",
            "Get:5 http://ppa.launchpad.net/c2d4u.team/c2d4u4.0+/ubuntu focal InRelease [18.1 kB]\n",
            "Hit:6 http://archive.ubuntu.com/ubuntu focal InRelease\n",
            "Get:7 https://cloud.r-project.org/bin/linux/ubuntu focal-cran40/ Packages [71.4 kB]\n",
            "Get:8 http://archive.ubuntu.com/ubuntu focal-updates InRelease [114 kB]\n",
            "Get:9 http://security.ubuntu.com/ubuntu focal-security InRelease [114 kB]\n",
            "Hit:10 http://ppa.launchpad.net/cran/libgit2/ubuntu focal InRelease\n",
            "Hit:12 http://ppa.launchpad.net/deadsnakes/ppa/ubuntu focal InRelease\n",
            "Get:13 http://archive.ubuntu.com/ubuntu focal-backports InRelease [108 kB]\n",
            "Hit:14 http://ppa.launchpad.net/graphics-drivers/ppa/ubuntu focal InRelease\n",
            "Get:15 http://ppa.launchpad.net/c2d4u.team/c2d4u4.0+/ubuntu focal/main Sources [2,385 kB]\n",
            "Get:16 http://archive.ubuntu.com/ubuntu focal-updates/main amd64 Packages [2,924 kB]\n",
            "Get:17 http://security.ubuntu.com/ubuntu focal-security/main amd64 Packages [2,448 kB]\n",
            "Get:18 http://archive.ubuntu.com/ubuntu focal-updates/universe amd64 Packages [1,291 kB]\n",
            "Get:19 http://archive.ubuntu.com/ubuntu focal-updates/restricted amd64 Packages [2,011 kB]\n",
            "Get:20 http://security.ubuntu.com/ubuntu focal-security/multiverse amd64 Packages [28.5 kB]\n",
            "Get:21 http://security.ubuntu.com/ubuntu focal-security/universe amd64 Packages [991 kB]\n",
            "Get:22 http://ppa.launchpad.net/c2d4u.team/c2d4u4.0+/ubuntu focal/main amd64 Packages [1,130 kB]\n",
            "Fetched 13.6 MB in 4s (3,546 kB/s)\n",
            "Reading package lists... Done\n",
            "Reading package lists... Done\n",
            "Building dependency tree       \n",
            "Reading state information... Done\n",
            "The following package was automatically installed and is no longer required:\n",
            "  libnvidia-common-510\n",
            "Use 'apt autoremove' to remove it.\n",
            "The following additional packages will be installed:\n",
            "  apparmor chromium-browser liblzo2-2 snapd squashfs-tools\n",
            "Suggested packages:\n",
            "  apparmor-profiles-extra apparmor-utils\n",
            "The following NEW packages will be installed:\n",
            "  apparmor chromium-browser chromium-chromedriver liblzo2-2 snapd\n",
            "  squashfs-tools\n",
            "0 upgraded, 6 newly installed, 0 to remove and 38 not upgraded.\n",
            "Need to get 38.6 MB of archives.\n",
            "After this operation, 174 MB of additional disk space will be used.\n",
            "Get:1 http://archive.ubuntu.com/ubuntu focal-updates/main amd64 apparmor amd64 2.13.3-7ubuntu5.1 [494 kB]\n",
            "Get:2 http://archive.ubuntu.com/ubuntu focal/main amd64 liblzo2-2 amd64 2.10-2 [50.8 kB]\n",
            "Get:3 http://archive.ubuntu.com/ubuntu focal-updates/main amd64 squashfs-tools amd64 1:4.4-1ubuntu0.3 [117 kB]\n",
            "Get:4 http://archive.ubuntu.com/ubuntu focal-updates/main amd64 snapd amd64 2.58+20.04 [37.9 MB]\n",
            "Get:5 http://archive.ubuntu.com/ubuntu focal-updates/universe amd64 chromium-browser amd64 1:85.0.4183.83-0ubuntu0.20.04.2 [48.3 kB]\n",
            "Get:6 http://archive.ubuntu.com/ubuntu focal-updates/universe amd64 chromium-chromedriver amd64 1:85.0.4183.83-0ubuntu0.20.04.2 [2,496 B]\n",
            "Fetched 38.6 MB in 4s (10.4 MB/s)\n",
            "Preconfiguring packages ...\n",
            "Selecting previously unselected package apparmor.\n",
            "(Reading database ... 129496 files and directories currently installed.)\n",
            "Preparing to unpack .../apparmor_2.13.3-7ubuntu5.1_amd64.deb ...\n",
            "Unpacking apparmor (2.13.3-7ubuntu5.1) ...\n",
            "Selecting previously unselected package liblzo2-2:amd64.\n",
            "Preparing to unpack .../liblzo2-2_2.10-2_amd64.deb ...\n",
            "Unpacking liblzo2-2:amd64 (2.10-2) ...\n",
            "Selecting previously unselected package squashfs-tools.\n",
            "Preparing to unpack .../squashfs-tools_1%3a4.4-1ubuntu0.3_amd64.deb ...\n",
            "Unpacking squashfs-tools (1:4.4-1ubuntu0.3) ...\n",
            "Selecting previously unselected package snapd.\n",
            "Preparing to unpack .../snapd_2.58+20.04_amd64.deb ...\n",
            "Unpacking snapd (2.58+20.04) ...\n",
            "Setting up apparmor (2.13.3-7ubuntu5.1) ...\n",
            "Created symlink /etc/systemd/system/sysinit.target.wants/apparmor.service → /lib/systemd/system/apparmor.service.\n",
            "Setting up liblzo2-2:amd64 (2.10-2) ...\n",
            "Setting up squashfs-tools (1:4.4-1ubuntu0.3) ...\n",
            "Setting up snapd (2.58+20.04) ...\n",
            "Created symlink /etc/systemd/system/multi-user.target.wants/snapd.aa-prompt-listener.service → /lib/systemd/system/snapd.aa-prompt-listener.service.\n",
            "Created symlink /etc/systemd/system/multi-user.target.wants/snapd.apparmor.service → /lib/systemd/system/snapd.apparmor.service.\n",
            "Created symlink /etc/systemd/system/multi-user.target.wants/snapd.autoimport.service → /lib/systemd/system/snapd.autoimport.service.\n",
            "Created symlink /etc/systemd/system/multi-user.target.wants/snapd.core-fixup.service → /lib/systemd/system/snapd.core-fixup.service.\n",
            "Created symlink /etc/systemd/system/multi-user.target.wants/snapd.recovery-chooser-trigger.service → /lib/systemd/system/snapd.recovery-chooser-trigger.service.\n",
            "Created symlink /etc/systemd/system/multi-user.target.wants/snapd.seeded.service → /lib/systemd/system/snapd.seeded.service.\n",
            "Created symlink /etc/systemd/system/cloud-final.service.wants/snapd.seeded.service → /lib/systemd/system/snapd.seeded.service.\n",
            "Created symlink /etc/systemd/system/multi-user.target.wants/snapd.service → /lib/systemd/system/snapd.service.\n",
            "Created symlink /etc/systemd/system/timers.target.wants/snapd.snap-repair.timer → /lib/systemd/system/snapd.snap-repair.timer.\n",
            "Created symlink /etc/systemd/system/sockets.target.wants/snapd.socket → /lib/systemd/system/snapd.socket.\n",
            "Created symlink /etc/systemd/system/final.target.wants/snapd.system-shutdown.service → /lib/systemd/system/snapd.system-shutdown.service.\n",
            "Selecting previously unselected package chromium-browser.\n",
            "(Reading database ... 129789 files and directories currently installed.)\n",
            "Preparing to unpack .../chromium-browser_1%3a85.0.4183.83-0ubuntu0.20.04.2_amd64.deb ...\n",
            "=> Installing the chromium snap\n",
            "==> Checking connectivity with the snap store\n",
            "===> System doesn't have a working snapd, skipping\n",
            "Unpacking chromium-browser (1:85.0.4183.83-0ubuntu0.20.04.2) ...\n",
            "Selecting previously unselected package chromium-chromedriver.\n",
            "Preparing to unpack .../chromium-chromedriver_1%3a85.0.4183.83-0ubuntu0.20.04.2_amd64.deb ...\n",
            "Unpacking chromium-chromedriver (1:85.0.4183.83-0ubuntu0.20.04.2) ...\n",
            "Setting up chromium-browser (1:85.0.4183.83-0ubuntu0.20.04.2) ...\n",
            "update-alternatives: using /usr/bin/chromium-browser to provide /usr/bin/x-www-browser (x-www-browser) in auto mode\n",
            "update-alternatives: using /usr/bin/chromium-browser to provide /usr/bin/gnome-www-browser (gnome-www-browser) in auto mode\n",
            "Setting up chromium-chromedriver (1:85.0.4183.83-0ubuntu0.20.04.2) ...\n",
            "Processing triggers for mime-support (3.64ubuntu1) ...\n",
            "Processing triggers for hicolor-icon-theme (0.17-2) ...\n",
            "Processing triggers for libc-bin (2.31-0ubuntu9.9) ...\n",
            "Processing triggers for systemd (245.4-4ubuntu3.19) ...\n",
            "Processing triggers for man-db (2.9.1-1) ...\n",
            "Processing triggers for dbus (1.12.16-2ubuntu2.3) ...\n",
            "cp: '/usr/lib/chromium-browser/chromedriver' and '/usr/bin/chromedriver' are the same file\n",
            "Looking in indexes: https://pypi.org/simple, https://us-python.pkg.dev/colab-wheels/public/simple/\n",
            "Collecting selenium\n",
            "  Downloading selenium-4.8.0-py3-none-any.whl (6.3 MB)\n",
            "\u001b[2K     \u001b[90m━━━━━━━━━━━━━━━━━━━━━━━━━━━━━━━━━━━━━━━━\u001b[0m \u001b[32m6.3/6.3 MB\u001b[0m \u001b[31m54.2 MB/s\u001b[0m eta \u001b[36m0:00:00\u001b[0m\n",
            "\u001b[?25hCollecting trio~=0.17\n",
            "  Downloading trio-0.22.0-py3-none-any.whl (384 kB)\n",
            "\u001b[2K     \u001b[90m━━━━━━━━━━━━━━━━━━━━━━━━━━━━━━━━━━━━━━\u001b[0m \u001b[32m384.9/384.9 KB\u001b[0m \u001b[31m32.4 MB/s\u001b[0m eta \u001b[36m0:00:00\u001b[0m\n",
            "\u001b[?25hCollecting urllib3[socks]~=1.26\n",
            "  Downloading urllib3-1.26.14-py2.py3-none-any.whl (140 kB)\n",
            "\u001b[2K     \u001b[90m━━━━━━━━━━━━━━━━━━━━━━━━━━━━━━━━━━━━━━\u001b[0m \u001b[32m140.6/140.6 KB\u001b[0m \u001b[31m15.4 MB/s\u001b[0m eta \u001b[36m0:00:00\u001b[0m\n",
            "\u001b[?25hCollecting trio-websocket~=0.9\n",
            "  Downloading trio_websocket-0.9.2-py3-none-any.whl (16 kB)\n",
            "Requirement already satisfied: certifi>=2021.10.8 in /usr/local/lib/python3.8/dist-packages (from selenium) (2022.12.7)\n",
            "Collecting sniffio\n",
            "  Downloading sniffio-1.3.0-py3-none-any.whl (10 kB)\n",
            "Requirement already satisfied: idna in /usr/local/lib/python3.8/dist-packages (from trio~=0.17->selenium) (2.10)\n",
            "Collecting exceptiongroup>=1.0.0rc9\n",
            "  Downloading exceptiongroup-1.1.0-py3-none-any.whl (14 kB)\n",
            "Requirement already satisfied: attrs>=19.2.0 in /usr/local/lib/python3.8/dist-packages (from trio~=0.17->selenium) (22.2.0)\n",
            "Collecting async-generator>=1.9\n",
            "  Downloading async_generator-1.10-py3-none-any.whl (18 kB)\n",
            "Collecting outcome\n",
            "  Downloading outcome-1.2.0-py2.py3-none-any.whl (9.7 kB)\n",
            "Requirement already satisfied: sortedcontainers in /usr/local/lib/python3.8/dist-packages (from trio~=0.17->selenium) (2.4.0)\n",
            "Collecting wsproto>=0.14\n",
            "  Downloading wsproto-1.2.0-py3-none-any.whl (24 kB)\n",
            "Requirement already satisfied: PySocks!=1.5.7,<2.0,>=1.5.6 in /usr/local/lib/python3.8/dist-packages (from urllib3[socks]~=1.26->selenium) (1.7.1)\n",
            "Collecting h11<1,>=0.9.0\n",
            "  Downloading h11-0.14.0-py3-none-any.whl (58 kB)\n",
            "\u001b[2K     \u001b[90m━━━━━━━━━━━━━━━━━━━━━━━━━━━━━━━━━━━━━━━━\u001b[0m \u001b[32m58.3/58.3 KB\u001b[0m \u001b[31m7.2 MB/s\u001b[0m eta \u001b[36m0:00:00\u001b[0m\n",
            "\u001b[?25hInstalling collected packages: urllib3, sniffio, outcome, h11, exceptiongroup, async-generator, wsproto, trio, trio-websocket, selenium\n",
            "  Attempting uninstall: urllib3\n",
            "    Found existing installation: urllib3 1.24.3\n",
            "    Uninstalling urllib3-1.24.3:\n",
            "      Successfully uninstalled urllib3-1.24.3\n",
            "Successfully installed async-generator-1.10 exceptiongroup-1.1.0 h11-0.14.0 outcome-1.2.0 selenium-4.8.0 sniffio-1.3.0 trio-0.22.0 trio-websocket-0.9.2 urllib3-1.26.14 wsproto-1.2.0\n"
          ]
        }
      ],
      "source": [
        "#Chromiumとseleniumをインストール\n",
        "print(\"前処理を開始\")\n",
        "!apt-get update\n",
        "!apt install chromium-chromedriver\n",
        "!cp /usr/lib/chromium-browser/chromedriver /usr/bin\n",
        "!pip install selenium\n",
        "     "
      ]
    },
    {
      "cell_type": "code",
      "source": [
        "import time\n",
        "import json\n",
        "import pandas as pd\n",
        "\n",
        "from bs4 import BeautifulSoup\n",
        "from selenium import webdriver\n",
        "from selenium.webdriver.chrome.options import Options"
      ],
      "metadata": {
        "id": "nMi9j-JFJgd9"
      },
      "execution_count": 2,
      "outputs": []
    },
    {
      "cell_type": "code",
      "source": [
        "pd.options.display.max_rows = 200\n",
        "\n",
        "# アカウント情報の読込\n",
        "account = pd.read_csv(\"account.txt\", header=None, sep=',')\n",
        "MAIL = account.loc[0,0]\n",
        "PASS = account.loc[0,1]"
      ],
      "metadata": {
        "id": "Z57dT1TFJmwU"
      },
      "execution_count": 3,
      "outputs": []
    },
    {
      "cell_type": "code",
      "source": [
        "def login_fun(_mail, _pass):\n",
        "    # ログインページにアクセス\n",
        "    driver.get(\"https://m-league.jp/supporter/login\")\n",
        "    \n",
        "    # Mail, Passを入力\n",
        "    #id_input = driver.find_element_by_id(\"login_mail\")\n",
        "    id_input = driver.find_element(By.ID, \"login_mail\")\n",
        "    id_input.send_keys(_mail)\n",
        "    #pass_input = driver.find_element_by_id(\"login_password\")\n",
        "    pass_input = driver.find_element(By.ID, \"login_password\")\n",
        "    pass_input.send_keys(_pass)\n",
        "    \n",
        "    # ログインボタンをクリック\n",
        "    #login_button = driver.find_elements_by_name(\"login\")\n",
        "    #login_button = driver.find_element(By.ID, \"login\")\n",
        "    #login_button[1].click()\n",
        "    button1_xpath = '//*[@id=\"app\"]/div/main/section/div/section[1]/div/button' \n",
        "    button1 = driver.find_element(By.XPATH,button1_xpath)\n",
        "    button1.click()\n",
        "\n",
        "def get_match_schedule_fun(season):\n",
        "    \n",
        "    match_schedule_list = []\n",
        "    \n",
        "    # 試合日程ページへアクセス\n",
        "    if season == 2022:\n",
        "        url = \"https://m-league.jp/games\"\n",
        "    else:\n",
        "        url = f\"https://m-league.jp/games/{season}-season\"\n",
        "    driver.get(url)\n",
        "    \n",
        "    # 20xxシーズンは20xx+1まで開催\n",
        "    for y in [season, season+1]:\n",
        "        for m in range(1, 12+1, 1):\n",
        "                for d in range(1, 31+1, 1):\n",
        "                    ymd = str(y) + str(m).zfill(2) + str(d).zfill(2)\n",
        "                    if len(driver.find_elements(By.XPATH,f\".//div[@id='js-modal-key{ymd}']\")) == 1:\n",
        "                        match_schedule_list += [ymd]\n",
        "    \n",
        "    return match_schedule_list\n",
        "\n",
        "def make_score_data_fun(html):\n",
        "    # htmlをパースする\n",
        "    soup = BeautifulSoup(html, \"html.parser\")\n",
        "    \n",
        "    # 必要な個所だけ抽出\n",
        "    start_mark = \"UMP_PLAYER.init(true, true, \\'\"\n",
        "    end_mark = \"\\', autoplay);\"\n",
        "    start_position = str(soup).find(start_mark) + len(start_mark)\n",
        "    end_position = str(soup).find(end_mark)\n",
        "    score = str(soup)[start_position:end_position]\n",
        "    \n",
        "    # DataFrameに変換\n",
        "    dat = pd.DataFrame(json.loads(score))\n",
        "    \n",
        "    return dat\n",
        "\n",
        "def make_dat_2021_fun(match_schedule_list_2021):\n",
        "    driver.get(\"https://m-league.jp/games/2021-season\")\n",
        "\n",
        "    dat_list = []\n",
        "    match_idx = 1\n",
        "    # 試合日程は時系列にソート済み想定\n",
        "    for m_s in match_schedule_list_2021:\n",
        "        # 月選択\n",
        "#         tmp = driver.find_element(By.XPATH,f\".//a[@href='/games/?mly={m_s[0:4]}&mlm={int(m_s[4:6])}#schedule']\")\n",
        "        tmp = driver.find_element(By.CSS_SELECTOR, \"#wrapper > div > main > section > div.p-gamesSchedule2 > div > ul:nth-child(3) > li:nth-child(2)\")\n",
        "        tmp2 = driver.find_elements(By.CSS_SELECTOR, \"#wrapper > div > main > section > div.p-gamesSchedule2 > div > ul:nth-child(3)\")\n",
        "        for t in tmp2:\n",
        "            print(t)\n",
        "        tmp.click()\n",
        "        # 日程選択\n",
        "#         tmp = driver.find_element(By.XPATH,f\".//li[@data-target='key{m_s}']\")\n",
        "        tmp = driver.find_element(By.CSS_SELECTOR,f\"#js-modal-key{match_schedule_list_2021[match_idx]} > div.c-modal2__contents > div > div.p-gamesResult__columns > div:nth-child(1) > form > button\")\n",
        "\n",
        "        tmp.click()\n",
        "        \n",
        "        time.sleep(1)\n",
        "        # 牌譜ビューアにアクセスするボタン取得\n",
        "#         button = driver.find_elements(By.XPATH,'//div[@class=\"c-button -primary -small\"]')\n",
        "        button1 = driver.find_element(By.CSS_SELECTOR, \"#js-modal-key20211004 > div.c-modal2__contents > div > div.p-gamesResult__columns > div:nth-child(1) > form > button\")\n",
        "        button2 = driver.find_element(By.CSS_SELECTOR, \"#js-modal-key20211004 > div.c-modal2__contents > div > div.p-gamesResult__columns > div:nth-child(2) > form > button\")\n",
        "        button1.click()\n",
        "\n",
        "        ### 第1試合\n",
        "        # 制御するタブの移動\n",
        "        driver.switch_to.window(driver.window_handles[1])\n",
        "        # 文字コードをUTF-8に変換\n",
        "        html = driver.page_source.encode('utf-8')\n",
        "        # DataFrameに変換\n",
        "        dat = make_score_data_fun(html)\n",
        "        dat_list += [dat]\n",
        "        # 牌譜ビューアを閉じる\n",
        "        driver.close()\n",
        "        # 制御するタブの移動\n",
        "        driver.switch_to.window(driver.window_handles[0])\n",
        "\n",
        "        ### 第2試合\n",
        "        button2.click()\n",
        "        # 制御するタブの移動\n",
        "        driver.switch_to.window(driver.window_handles[1])\n",
        "        # 文字コードをUTF-8に変換\n",
        "        html = driver.page_source.encode('utf-8')\n",
        "        # DataFrameに変換\n",
        "        dat = make_score_data_fun(html)\n",
        "        dat_list += [dat]\n",
        "        # 牌譜ビューアを閉じる\n",
        "        driver.close()\n",
        "        # 制御するタブの移動\n",
        "        driver.switch_to.window(driver.window_handles[0])\n",
        "\n",
        "        # ページのリセット\n",
        "        driver.get(\"https://m-league.jp/games/2021-season\")\n",
        "\n",
        "        # アクセス制限\n",
        "        time.sleep(10)\n",
        "        match_idx += 1\n",
        "        print(\"Get: \" + m_s)\n",
        "        \n",
        "    # データ縦積み\n",
        "    dat_all = pd.concat(dat_list).reset_index(drop=True)\n",
        "    \n",
        "    return dat_all\n",
        "    "
      ],
      "metadata": {
        "id": "pjsyboGHKBsk"
      },
      "execution_count": 4,
      "outputs": []
    },
    {
      "cell_type": "code",
      "source": [
        "# ブラウザをheadlessモード実行\n",
        "options = webdriver.ChromeOptions()\n",
        "#ヘッドレスモード（バックグラウンドで起動）で実行。コラボの場合、必須。\n",
        "options.add_argument('--headless')\n",
        "#サンドボックスモードの解除。これも必須。\n",
        "options.add_argument('--no-sandbox')\n",
        "#これも設定した方がよい。\n",
        "options.add_argument('--disable-dev-shm-usage')\n",
        "     "
      ],
      "metadata": {
        "id": "OwQ_Ch3dKHFr"
      },
      "execution_count": 18,
      "outputs": []
    },
    {
      "cell_type": "code",
      "source": [
        "from selenium.webdriver.common.by import By"
      ],
      "metadata": {
        "id": "etS61GkcKNQn"
      },
      "execution_count": 16,
      "outputs": []
    },
    {
      "cell_type": "code",
      "source": [
        "# ブラウザのオプション\n",
        "options = Options()\n",
        "\n",
        "from selenium.webdriver.chrome.service import Service\n",
        "\n",
        "#driver = webdriver.Chrome(service=Service('/usr/lib/chromium-browser/chromedriver'))\n",
        "\n",
        "# ブラウザ起動\n",
        "driver = webdriver.Chrome(executable_path=\"/Users/yugayoshimura/Downloads\", options=options)"
      ],
      "metadata": {
        "colab": {
          "base_uri": "https://localhost:8080/",
          "height": 698
        },
        "id": "qb_OKkSmKPg3",
        "outputId": "5645c4f0-32a7-43e7-9bb9-4286867452f7"
      },
      "execution_count": 20,
      "outputs": [
        {
          "output_type": "stream",
          "name": "stderr",
          "text": [
            "<ipython-input-20-785ad28fd36e>:9: DeprecationWarning: executable_path has been deprecated, please pass in a Service object\n",
            "  driver = webdriver.Chrome(executable_path=\"/Users/yugayoshimura/Downloads\")\n"
          ]
        },
        {
          "output_type": "error",
          "ename": "WebDriverException",
          "evalue": "ignored",
          "traceback": [
            "\u001b[0;31m---------------------------------------------------------------------------\u001b[0m",
            "\u001b[0;31mWebDriverException\u001b[0m                        Traceback (most recent call last)",
            "\u001b[0;32m<ipython-input-20-785ad28fd36e>\u001b[0m in \u001b[0;36m<module>\u001b[0;34m\u001b[0m\n\u001b[1;32m      7\u001b[0m \u001b[0;34m\u001b[0m\u001b[0m\n\u001b[1;32m      8\u001b[0m \u001b[0;31m# ブラウザ起動\u001b[0m\u001b[0;34m\u001b[0m\u001b[0;34m\u001b[0m\u001b[0;34m\u001b[0m\u001b[0m\n\u001b[0;32m----> 9\u001b[0;31m \u001b[0mdriver\u001b[0m \u001b[0;34m=\u001b[0m \u001b[0mwebdriver\u001b[0m\u001b[0;34m.\u001b[0m\u001b[0mChrome\u001b[0m\u001b[0;34m(\u001b[0m\u001b[0mexecutable_path\u001b[0m\u001b[0;34m=\u001b[0m\u001b[0;34m\"/Users/yugayoshimura/Downloads\"\u001b[0m\u001b[0;34m)\u001b[0m\u001b[0;34m\u001b[0m\u001b[0;34m\u001b[0m\u001b[0m\n\u001b[0m",
            "\u001b[0;32m/usr/local/lib/python3.8/dist-packages/selenium/webdriver/chrome/webdriver.py\u001b[0m in \u001b[0;36m__init__\u001b[0;34m(self, executable_path, port, options, service_args, desired_capabilities, service_log_path, chrome_options, service, keep_alive)\u001b[0m\n\u001b[1;32m     78\u001b[0m             \u001b[0mservice\u001b[0m \u001b[0;34m=\u001b[0m \u001b[0mService\u001b[0m\u001b[0;34m(\u001b[0m\u001b[0mexecutable_path\u001b[0m\u001b[0;34m,\u001b[0m \u001b[0mport\u001b[0m\u001b[0;34m,\u001b[0m \u001b[0mservice_args\u001b[0m\u001b[0;34m,\u001b[0m \u001b[0mservice_log_path\u001b[0m\u001b[0;34m)\u001b[0m\u001b[0;34m\u001b[0m\u001b[0;34m\u001b[0m\u001b[0m\n\u001b[1;32m     79\u001b[0m \u001b[0;34m\u001b[0m\u001b[0m\n\u001b[0;32m---> 80\u001b[0;31m         super().__init__(\n\u001b[0m\u001b[1;32m     81\u001b[0m             \u001b[0mDesiredCapabilities\u001b[0m\u001b[0;34m.\u001b[0m\u001b[0mCHROME\u001b[0m\u001b[0;34m[\u001b[0m\u001b[0;34m\"browserName\"\u001b[0m\u001b[0;34m]\u001b[0m\u001b[0;34m,\u001b[0m\u001b[0;34m\u001b[0m\u001b[0;34m\u001b[0m\u001b[0m\n\u001b[1;32m     82\u001b[0m             \u001b[0;34m\"goog\"\u001b[0m\u001b[0;34m,\u001b[0m\u001b[0;34m\u001b[0m\u001b[0;34m\u001b[0m\u001b[0m\n",
            "\u001b[0;32m/usr/local/lib/python3.8/dist-packages/selenium/webdriver/chromium/webdriver.py\u001b[0m in \u001b[0;36m__init__\u001b[0;34m(self, browser_name, vendor_prefix, port, options, service_args, desired_capabilities, service_log_path, service, keep_alive)\u001b[0m\n\u001b[1;32m    102\u001b[0m \u001b[0;34m\u001b[0m\u001b[0m\n\u001b[1;32m    103\u001b[0m         \u001b[0;32mtry\u001b[0m\u001b[0;34m:\u001b[0m\u001b[0;34m\u001b[0m\u001b[0;34m\u001b[0m\u001b[0m\n\u001b[0;32m--> 104\u001b[0;31m             super().__init__(\n\u001b[0m\u001b[1;32m    105\u001b[0m                 command_executor=ChromiumRemoteConnection(\n\u001b[1;32m    106\u001b[0m                     \u001b[0mremote_server_addr\u001b[0m\u001b[0;34m=\u001b[0m\u001b[0mself\u001b[0m\u001b[0;34m.\u001b[0m\u001b[0mservice\u001b[0m\u001b[0;34m.\u001b[0m\u001b[0mservice_url\u001b[0m\u001b[0;34m,\u001b[0m\u001b[0;34m\u001b[0m\u001b[0;34m\u001b[0m\u001b[0m\n",
            "\u001b[0;32m/usr/local/lib/python3.8/dist-packages/selenium/webdriver/remote/webdriver.py\u001b[0m in \u001b[0;36m__init__\u001b[0;34m(self, command_executor, desired_capabilities, browser_profile, proxy, keep_alive, file_detector, options)\u001b[0m\n\u001b[1;32m    284\u001b[0m         \u001b[0mself\u001b[0m\u001b[0;34m.\u001b[0m\u001b[0m_authenticator_id\u001b[0m \u001b[0;34m=\u001b[0m \u001b[0;32mNone\u001b[0m\u001b[0;34m\u001b[0m\u001b[0;34m\u001b[0m\u001b[0m\n\u001b[1;32m    285\u001b[0m         \u001b[0mself\u001b[0m\u001b[0;34m.\u001b[0m\u001b[0mstart_client\u001b[0m\u001b[0;34m(\u001b[0m\u001b[0;34m)\u001b[0m\u001b[0;34m\u001b[0m\u001b[0;34m\u001b[0m\u001b[0m\n\u001b[0;32m--> 286\u001b[0;31m         \u001b[0mself\u001b[0m\u001b[0;34m.\u001b[0m\u001b[0mstart_session\u001b[0m\u001b[0;34m(\u001b[0m\u001b[0mcapabilities\u001b[0m\u001b[0;34m,\u001b[0m \u001b[0mbrowser_profile\u001b[0m\u001b[0;34m)\u001b[0m\u001b[0;34m\u001b[0m\u001b[0;34m\u001b[0m\u001b[0m\n\u001b[0m\u001b[1;32m    287\u001b[0m \u001b[0;34m\u001b[0m\u001b[0m\n\u001b[1;32m    288\u001b[0m     \u001b[0;32mdef\u001b[0m \u001b[0m__repr__\u001b[0m\u001b[0;34m(\u001b[0m\u001b[0mself\u001b[0m\u001b[0;34m)\u001b[0m\u001b[0;34m:\u001b[0m\u001b[0;34m\u001b[0m\u001b[0;34m\u001b[0m\u001b[0m\n",
            "\u001b[0;32m/usr/local/lib/python3.8/dist-packages/selenium/webdriver/remote/webdriver.py\u001b[0m in \u001b[0;36mstart_session\u001b[0;34m(self, capabilities, browser_profile)\u001b[0m\n\u001b[1;32m    376\u001b[0m         \u001b[0mw3c_caps\u001b[0m \u001b[0;34m=\u001b[0m \u001b[0m_make_w3c_caps\u001b[0m\u001b[0;34m(\u001b[0m\u001b[0mcapabilities\u001b[0m\u001b[0;34m)\u001b[0m\u001b[0;34m\u001b[0m\u001b[0;34m\u001b[0m\u001b[0m\n\u001b[1;32m    377\u001b[0m         \u001b[0mparameters\u001b[0m \u001b[0;34m=\u001b[0m \u001b[0;34m{\u001b[0m\u001b[0;34m\"capabilities\"\u001b[0m\u001b[0;34m:\u001b[0m \u001b[0mw3c_caps\u001b[0m\u001b[0;34m}\u001b[0m\u001b[0;34m\u001b[0m\u001b[0;34m\u001b[0m\u001b[0m\n\u001b[0;32m--> 378\u001b[0;31m         \u001b[0mresponse\u001b[0m \u001b[0;34m=\u001b[0m \u001b[0mself\u001b[0m\u001b[0;34m.\u001b[0m\u001b[0mexecute\u001b[0m\u001b[0;34m(\u001b[0m\u001b[0mCommand\u001b[0m\u001b[0;34m.\u001b[0m\u001b[0mNEW_SESSION\u001b[0m\u001b[0;34m,\u001b[0m \u001b[0mparameters\u001b[0m\u001b[0;34m)\u001b[0m\u001b[0;34m\u001b[0m\u001b[0;34m\u001b[0m\u001b[0m\n\u001b[0m\u001b[1;32m    379\u001b[0m         \u001b[0;32mif\u001b[0m \u001b[0;34m\"sessionId\"\u001b[0m \u001b[0;32mnot\u001b[0m \u001b[0;32min\u001b[0m \u001b[0mresponse\u001b[0m\u001b[0;34m:\u001b[0m\u001b[0;34m\u001b[0m\u001b[0;34m\u001b[0m\u001b[0m\n\u001b[1;32m    380\u001b[0m             \u001b[0mresponse\u001b[0m \u001b[0;34m=\u001b[0m \u001b[0mresponse\u001b[0m\u001b[0;34m[\u001b[0m\u001b[0;34m\"value\"\u001b[0m\u001b[0;34m]\u001b[0m\u001b[0;34m\u001b[0m\u001b[0;34m\u001b[0m\u001b[0m\n",
            "\u001b[0;32m/usr/local/lib/python3.8/dist-packages/selenium/webdriver/remote/webdriver.py\u001b[0m in \u001b[0;36mexecute\u001b[0;34m(self, driver_command, params)\u001b[0m\n\u001b[1;32m    438\u001b[0m         \u001b[0mresponse\u001b[0m \u001b[0;34m=\u001b[0m \u001b[0mself\u001b[0m\u001b[0;34m.\u001b[0m\u001b[0mcommand_executor\u001b[0m\u001b[0;34m.\u001b[0m\u001b[0mexecute\u001b[0m\u001b[0;34m(\u001b[0m\u001b[0mdriver_command\u001b[0m\u001b[0;34m,\u001b[0m \u001b[0mparams\u001b[0m\u001b[0;34m)\u001b[0m\u001b[0;34m\u001b[0m\u001b[0;34m\u001b[0m\u001b[0m\n\u001b[1;32m    439\u001b[0m         \u001b[0;32mif\u001b[0m \u001b[0mresponse\u001b[0m\u001b[0;34m:\u001b[0m\u001b[0;34m\u001b[0m\u001b[0;34m\u001b[0m\u001b[0m\n\u001b[0;32m--> 440\u001b[0;31m             \u001b[0mself\u001b[0m\u001b[0;34m.\u001b[0m\u001b[0merror_handler\u001b[0m\u001b[0;34m.\u001b[0m\u001b[0mcheck_response\u001b[0m\u001b[0;34m(\u001b[0m\u001b[0mresponse\u001b[0m\u001b[0;34m)\u001b[0m\u001b[0;34m\u001b[0m\u001b[0;34m\u001b[0m\u001b[0m\n\u001b[0m\u001b[1;32m    441\u001b[0m             \u001b[0mresponse\u001b[0m\u001b[0;34m[\u001b[0m\u001b[0;34m\"value\"\u001b[0m\u001b[0;34m]\u001b[0m \u001b[0;34m=\u001b[0m \u001b[0mself\u001b[0m\u001b[0;34m.\u001b[0m\u001b[0m_unwrap_value\u001b[0m\u001b[0;34m(\u001b[0m\u001b[0mresponse\u001b[0m\u001b[0;34m.\u001b[0m\u001b[0mget\u001b[0m\u001b[0;34m(\u001b[0m\u001b[0;34m\"value\"\u001b[0m\u001b[0;34m,\u001b[0m \u001b[0;32mNone\u001b[0m\u001b[0;34m)\u001b[0m\u001b[0;34m)\u001b[0m\u001b[0;34m\u001b[0m\u001b[0;34m\u001b[0m\u001b[0m\n\u001b[1;32m    442\u001b[0m             \u001b[0;32mreturn\u001b[0m \u001b[0mresponse\u001b[0m\u001b[0;34m\u001b[0m\u001b[0;34m\u001b[0m\u001b[0m\n",
            "\u001b[0;32m/usr/local/lib/python3.8/dist-packages/selenium/webdriver/remote/errorhandler.py\u001b[0m in \u001b[0;36mcheck_response\u001b[0;34m(self, response)\u001b[0m\n\u001b[1;32m    243\u001b[0m                 \u001b[0malert_text\u001b[0m \u001b[0;34m=\u001b[0m \u001b[0mvalue\u001b[0m\u001b[0;34m[\u001b[0m\u001b[0;34m\"alert\"\u001b[0m\u001b[0;34m]\u001b[0m\u001b[0;34m.\u001b[0m\u001b[0mget\u001b[0m\u001b[0;34m(\u001b[0m\u001b[0;34m\"text\"\u001b[0m\u001b[0;34m)\u001b[0m\u001b[0;34m\u001b[0m\u001b[0;34m\u001b[0m\u001b[0m\n\u001b[1;32m    244\u001b[0m             \u001b[0;32mraise\u001b[0m \u001b[0mexception_class\u001b[0m\u001b[0;34m(\u001b[0m\u001b[0mmessage\u001b[0m\u001b[0;34m,\u001b[0m \u001b[0mscreen\u001b[0m\u001b[0;34m,\u001b[0m \u001b[0mstacktrace\u001b[0m\u001b[0;34m,\u001b[0m \u001b[0malert_text\u001b[0m\u001b[0;34m)\u001b[0m  \u001b[0;31m# type: ignore[call-arg]  # mypy is not smart enough here\u001b[0m\u001b[0;34m\u001b[0m\u001b[0;34m\u001b[0m\u001b[0m\n\u001b[0;32m--> 245\u001b[0;31m         \u001b[0;32mraise\u001b[0m \u001b[0mexception_class\u001b[0m\u001b[0;34m(\u001b[0m\u001b[0mmessage\u001b[0m\u001b[0;34m,\u001b[0m \u001b[0mscreen\u001b[0m\u001b[0;34m,\u001b[0m \u001b[0mstacktrace\u001b[0m\u001b[0;34m)\u001b[0m\u001b[0;34m\u001b[0m\u001b[0;34m\u001b[0m\u001b[0m\n\u001b[0m",
            "\u001b[0;31mWebDriverException\u001b[0m: Message: unknown error: Chrome failed to start: exited abnormally.\n  (unknown error: DevToolsActivePort file doesn't exist)\n  (The process started from chrome location /usr/bin/chromium-browser is no longer running, so ChromeDriver is assuming that Chrome has crashed.)\nStacktrace:\n#0 0x5571ca925303 <unknown>\n#1 0x5571ca6f9d37 <unknown>\n#2 0x5571ca722157 <unknown>\n#3 0x5571ca71e330 <unknown>\n#4 0x5571ca75f4a6 <unknown>\n#5 0x5571ca756753 <unknown>\n#6 0x5571ca729a14 <unknown>\n#7 0x5571ca72ab7e <unknown>\n#8 0x5571ca97432e <unknown>\n#9 0x5571ca977c0e <unknown>\n#10 0x5571ca95a610 <unknown>\n#11 0x5571ca978c23 <unknown>\n#12 0x5571ca94c545 <unknown>\n#13 0x5571ca9996a8 <unknown>\n#14 0x5571ca999836 <unknown>\n#15 0x5571ca9b4d13 <unknown>\n#16 0x7f9a19632609 start_thread\n"
          ]
        }
      ]
    },
    {
      "cell_type": "code",
      "source": [
        "login_fun(MAIL, PASS)"
      ],
      "metadata": {
        "colab": {
          "base_uri": "https://localhost:8080/",
          "height": 292
        },
        "id": "miID0KEIKU9U",
        "outputId": "cf459d89-547a-4671-9608-ca2b8cca9bfd"
      },
      "execution_count": 8,
      "outputs": [
        {
          "output_type": "error",
          "ename": "NameError",
          "evalue": "ignored",
          "traceback": [
            "\u001b[0;31m---------------------------------------------------------------------------\u001b[0m",
            "\u001b[0;31mNameError\u001b[0m                                 Traceback (most recent call last)",
            "\u001b[0;32m<ipython-input-8-77a13e709ee2>\u001b[0m in \u001b[0;36m<module>\u001b[0;34m\u001b[0m\n\u001b[0;32m----> 1\u001b[0;31m \u001b[0mlogin_fun\u001b[0m\u001b[0;34m(\u001b[0m\u001b[0mMAIL\u001b[0m\u001b[0;34m,\u001b[0m \u001b[0mPASS\u001b[0m\u001b[0;34m)\u001b[0m\u001b[0;34m\u001b[0m\u001b[0;34m\u001b[0m\u001b[0m\n\u001b[0m",
            "\u001b[0;32m<ipython-input-4-016b8fcaf579>\u001b[0m in \u001b[0;36mlogin_fun\u001b[0;34m(_mail, _pass)\u001b[0m\n\u001b[1;32m      1\u001b[0m \u001b[0;32mdef\u001b[0m \u001b[0mlogin_fun\u001b[0m\u001b[0;34m(\u001b[0m\u001b[0m_mail\u001b[0m\u001b[0;34m,\u001b[0m \u001b[0m_pass\u001b[0m\u001b[0;34m)\u001b[0m\u001b[0;34m:\u001b[0m\u001b[0;34m\u001b[0m\u001b[0;34m\u001b[0m\u001b[0m\n\u001b[1;32m      2\u001b[0m     \u001b[0;31m# ログインページにアクセス\u001b[0m\u001b[0;34m\u001b[0m\u001b[0;34m\u001b[0m\u001b[0;34m\u001b[0m\u001b[0m\n\u001b[0;32m----> 3\u001b[0;31m     \u001b[0mdriver\u001b[0m\u001b[0;34m.\u001b[0m\u001b[0mget\u001b[0m\u001b[0;34m(\u001b[0m\u001b[0;34m\"https://m-league.jp/supporter/login\"\u001b[0m\u001b[0;34m)\u001b[0m\u001b[0;34m\u001b[0m\u001b[0;34m\u001b[0m\u001b[0m\n\u001b[0m\u001b[1;32m      4\u001b[0m \u001b[0;34m\u001b[0m\u001b[0m\n\u001b[1;32m      5\u001b[0m     \u001b[0;31m# Mail, Passを入力\u001b[0m\u001b[0;34m\u001b[0m\u001b[0;34m\u001b[0m\u001b[0;34m\u001b[0m\u001b[0m\n",
            "\u001b[0;31mNameError\u001b[0m: name 'driver' is not defined"
          ]
        }
      ]
    },
    {
      "cell_type": "code",
      "source": [
        "# 2022-23シーズン\n",
        "match_schedule_list_2022 = get_match_schedule_fun(2022)\n",
        "match_schedule_list_2022.sort(reverse=False)\n",
        "len(match_schedule_list_2021)"
      ],
      "metadata": {
        "id": "Cw_p0AUBKVx1"
      },
      "execution_count": null,
      "outputs": []
    },
    {
      "cell_type": "code",
      "source": [
        "## 2021-22シーズン\n",
        "match_schedule_list_2021 = get_match_schedule_fun(2021)\n",
        "match_schedule_list_2021.sort(reverse=False)\n",
        "len(match_schedule_list_2021)"
      ],
      "metadata": {
        "id": "qicsACWNO3Uv"
      },
      "execution_count": null,
      "outputs": []
    },
    {
      "cell_type": "code",
      "source": [
        "#2020-21シーズン\n",
        "match_schedule_list_2020 = get_match_schedule_fun(2020)\n",
        "match_schedule_list_2020.sort(reverse=False)\n",
        "len(match_schedule_list_2020)"
      ],
      "metadata": {
        "id": "jB3ugh36O5O_"
      },
      "execution_count": null,
      "outputs": []
    },
    {
      "cell_type": "code",
      "source": [
        "# 2019-20シーズン\n",
        "match_schedule_list_2019 = get_match_schedule_fun(2019)\n",
        "match_schedule_list_2019.sort(reverse=False)\n",
        "len(match_schedule_list_2019)"
      ],
      "metadata": {
        "id": "i67NWP0fO7P8"
      },
      "execution_count": null,
      "outputs": []
    },
    {
      "cell_type": "code",
      "source": [
        "# 2018-19シーズン\n",
        "match_schedule_list_2018 = get_match_schedule_fun(2018)\n",
        "match_schedule_list_2018.sort(reverse=False)\n",
        "len(match_schedule_list_2018)"
      ],
      "metadata": {
        "id": "wrKA_vsyO-Vz"
      },
      "execution_count": null,
      "outputs": []
    },
    {
      "cell_type": "code",
      "source": [
        "\n",
        "def login_fun(_mail, _pass):\n",
        "    # ログインページにアクセス\n",
        "    driver.get(\"https://m-league.jp/supporter/login\")\n",
        "    \n",
        "    # Mail, Passを入力\n",
        "    #id_input = driver.find_element_by_id(\"login_mail\")\n",
        "    id_input = driver.find_element(By.ID, \"login_mail\")\n",
        "    id_input.send_keys(_mail)\n",
        "    #pass_input = driver.find_element_by_id(\"login_password\")\n",
        "    pass_input = driver.find_element(By.ID, \"login_password\")\n",
        "    pass_input.send_keys(_pass)\n",
        "    \n",
        "    # ログインボタンをクリック\n",
        "    #login_button = driver.find_elements_by_name(\"login\")\n",
        "    #login_button = driver.find_element(By.ID, \"login\")\n",
        "    #login_button[1].click()\n",
        "    button1_xpath = '//*[@id=\"app\"]/div/main/section/div/section[1]/div/button' \n",
        "    button1 = driver.find_element(By.XPATH,button1_xpath)\n",
        "    button1.click()\n",
        "\n",
        "def get_match_schedule_fun(season):\n",
        "    \n",
        "    match_schedule_list = []\n",
        "    \n",
        "    # 試合日程ページへアクセス\n",
        "    if season == 2022:\n",
        "        url = \"https://m-league.jp/games\"\n",
        "    else:\n",
        "        url = f\"https://m-league.jp/games/{season}-season\"\n",
        "    driver.get(url)\n",
        "    \n",
        "    # 20xxシーズンは20xx+1まで開催\n",
        "    for y in [season, season+1]:\n",
        "        for m in range(1, 12+1, 1):\n",
        "                for d in range(1, 31+1, 1):\n",
        "                    ymd = str(y) + str(m).zfill(2) + str(d).zfill(2)\n",
        "                    if len(driver.find_elements(By.XPATH,f\".//div[@id='js-modal-key{ymd}']\")) == 1:\n",
        "                        match_schedule_list += [ymd]\n",
        "    \n",
        "    return match_schedule_list\n",
        "\n",
        "def make_score_data_fun(html):\n",
        "    # htmlをパースする\n",
        "    soup = BeautifulSoup(html, \"html.parser\")\n",
        "    \n",
        "    # 必要な個所だけ抽出\n",
        "    start_mark = \"UMP_PLAYER.init(true, true, \\'\"\n",
        "    end_mark = \"\\', autoplay);\"\n",
        "    start_position = str(soup).find(start_mark) + len(start_mark)\n",
        "    end_position = str(soup).find(end_mark)\n",
        "    score = str(soup)[start_position:end_position]\n",
        "    \n",
        "    # DataFrameに変換\n",
        "    dat = pd.DataFrame(json.loads(score))\n",
        "    \n",
        "    return dat\n",
        "\n",
        "def make_dat_2021_fun(match_schedule_list_2021):\n",
        "    driver.get(\"https://m-league.jp/games/2021-season\")\n",
        "\n",
        "    dat_list = []\n",
        "    \n",
        "    month_idx = 2\n",
        "    day_idx = 1\n",
        "    match_idx = 0\n",
        "    # 試合日程は時系列にソート済み想定\n",
        "    while True:\n",
        "        month_idx += 1\n",
        "        #bottun_next = driver.find_element(By.CSS_SELECTOR, f\"#wrapper > div > main > section > div.p-gamesSchedule2 > div > nav > ul > li:nth-child(2)\")\n",
        "        #bottun_next.click()\n",
        "        \n",
        "        try:\n",
        "            check = driver.find_element(By.CSS_SELECTOR, f\"#wrapper > div > main > section > div.p-gamesSchedule2 > div > ul:nth-child({month_idx}) > li:nth-child({day_idx})\")\n",
        "            print(f\"#wrapper > div > main > section > div.p-gamesSchedule2 > div > ul:nth-child({month_idx}) > li:nth-child({day_idx})\")\n",
        "            while True:\n",
        "                try:\n",
        "                    print(f\"month: {month_idx}, day: {day_idx}\")\n",
        "                    # 月選択\n",
        "            #         tmp = driver.find_element(By.XPATH,f\".//a[@href='/games/?mly={m_s[0:4]}&mlm={int(m_s[4:6])}#schedule']\")\n",
        "                    tmp = driver.find_element(By.CSS_SELECTOR, f\"#wrapper > div > main > section > div.p-gamesSchedule2 > div > ul:nth-child({month_idx}) > li:nth-child({day_idx})\")\n",
        "                    tmp.click()\n",
        "                    # 日程選択\n",
        "            #         tmp = driver.find_element(By.XPATH,f\".//li[@data-target='key{m_s}']\")\n",
        "                    print(match_schedule_list_2021[match_idx])\n",
        "                    tmp = driver.find_element(By.CSS_SELECTOR,f\"#js-modal-key{match_schedule_list_2021[match_idx]} > div.c-modal2__contents > div > div.p-gamesResult__columns > div:nth-child(1) > form > button\")\n",
        "\n",
        "                    tmp.click()\n",
        "\n",
        "                    time.sleep(1)\n",
        "                    # 牌譜ビューアにアクセスするボタン取得\n",
        "                    button1 = driver.find_element(By.CSS_SELECTOR, f\"#js-modal-key{match_schedule_list_2021[match_idx]} > div.c-modal2__contents > div > div.p-gamesResult__columns > div:nth-child(1) > form > button\")\n",
        "                    button2 = driver.find_element(By.CSS_SELECTOR, f\"#js-modal-key{match_schedule_list_2021[match_idx]} > div.c-modal2__contents > div > div.p-gamesResult__columns > div:nth-child(1) > form > button\")\n",
        "                    button1.click()\n",
        "\n",
        "                    ### 第1試合\n",
        "                    # 制御するタブの移動\n",
        "                    driver.switch_to.window(driver.window_handles[1])\n",
        "                    # 文字コードをUTF-8に変換\n",
        "                    html = driver.page_source.encode('utf-8')\n",
        "                    # DataFrameに変換\n",
        "                    dat = make_score_data_fun(html)\n",
        "                    dat_list += [dat]\n",
        "                    # 牌譜ビューアを閉じる\n",
        "                    driver.close()\n",
        "                    # 制御するタブの移動\n",
        "                    driver.switch_to.window(driver.window_handles[0])\n",
        "\n",
        "                    ### 第2試合\n",
        "                    button2.click()\n",
        "                    # 制御するタブの移動\n",
        "                    driver.switch_to.window(driver.window_handles[1])\n",
        "                    # 文字コードをUTF-8に変換\n",
        "                    html = driver.page_source.encode('utf-8')\n",
        "                    # DataFrameに変換\n",
        "                    dat = make_score_data_fun(html)\n",
        "                    dat_list += [dat]\n",
        "                    # 牌譜ビューアを閉じる\n",
        "                    driver.close()\n",
        "                    # 制御するタブの移動\n",
        "                    driver.switch_to.window(driver.window_handles[0])\n",
        "\n",
        "                    # ページのリセット\n",
        "                    driver.get(\"https://m-league.jp/games/2021-season\")\n",
        "\n",
        "                    # アクセス制限\n",
        "                    time.sleep(10)\n",
        "                    day_idx += 1\n",
        "                    match_idx += 1\n",
        "                except Exception as e:\n",
        "                    day_idx = 1\n",
        "                    print(\"１ヶ月終わり\")\n",
        "                    print(e)\n",
        "                    bottun_next = driver.find_element(By.CSS_SELECTOR, f\"#wrapper > div > main > section > div.p-gamesSchedule2 > div > nav > ul > li:nth-child({month_idx - 1})\")\n",
        "                    bottun_next.click()\n",
        "                    break\n",
        "                    \n",
        "        except Exception as e:\n",
        "            print(e)\n",
        "            break\n",
        "            \n",
        "        \n",
        "    # データ縦積み\n",
        "    dat_all = pd.concat(dat_list).reset_index(drop=True)\n",
        "    \n",
        "    return dat_all"
      ],
      "metadata": {
        "id": "qtMQ51WTPCpu"
      },
      "execution_count": null,
      "outputs": []
    },
    {
      "cell_type": "code",
      "source": [
        "dat_2021 = make_dat_2021_fun(match_schedule_list_2021)"
      ],
      "metadata": {
        "id": "uCctKFAYPILE"
      },
      "execution_count": null,
      "outputs": []
    },
    {
      "cell_type": "code",
      "source": [
        "dat_2021.to_csv(\"../Downloads/M_League_2021.csv\", header=False, index=False)\n",
        "\n",
        "print(dat_2021)"
      ],
      "metadata": {
        "id": "zZbEBfdBPIyc"
      },
      "execution_count": null,
      "outputs": []
    }
  ]
}